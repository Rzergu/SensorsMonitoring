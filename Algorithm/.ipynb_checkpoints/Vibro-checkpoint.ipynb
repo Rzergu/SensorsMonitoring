{
 "cells": [
  {
   "cell_type": "code",
   "execution_count": 3,
   "metadata": {},
   "outputs": [
    {
     "name": "stdout",
     "output_type": "stream",
     "text": [
      "   Sucsess\n",
      "0     True\n",
      "   Sucsess      Result\n",
      "0     True  Normal,0.0\n"
     ]
    }
   ],
   "source": [
    "import numpy as np\n",
    "import scipy.fftpack\n",
    "import peakutils\n",
    "import pandas as pd\n",
    "import mlflow.pyfunc\n",
    "\n",
    "class AddN(mlflow.pyfunc.PythonModel):\n",
    "    def __init__(self, n):\n",
    "        self.rms = 0.0\n",
    "        self.peaks = []\n",
    "    def predict(self, context, model_input):\n",
    "        action = model_input.iloc[0].Type\n",
    "        data = pd.read_json(model_input.iloc[0].Data)\n",
    "        if(action == 'set'):\n",
    "            return self.setNormalWork(data)\n",
    "        else:\n",
    "            return self.getResult(data)\n",
    "    def setNormalWork(self, data):\n",
    "        self.rms = np.sqrt(np.mean(data.Power**2))\n",
    "        self.peaks = data.sort_values(by=['Power']).tail(5)['Power']\n",
    "        d = {'Sucsess': [True]}\n",
    "        return pd.DataFrame(data=d)\n",
    "    def getResult(self, data):\n",
    "        new_rms = np.sqrt(np.mean(data.Power**2))\n",
    "        new_peaks = data.sort_values(by=['Power']).tail(5)['Power']\n",
    "        diff = abs(100 * (new_rms - self.rms) / self.rms)\n",
    "        i = 0\n",
    "        diff_peak = 0\n",
    "        for peak in self.peaks:\n",
    "            diff_peak = diff_peak + abs(100 * (peak - new_peaks.iloc[i]) / new_peaks.iloc[i])\n",
    "            i = i+1\n",
    "        avg = diff_peak / i\n",
    "        complex_diff = (diff + diff_peak)/2\n",
    "        res = ''\n",
    "        if(complex_diff < 100):\n",
    "            res = 'Normal,'+ str(complex_diff)\n",
    "        if(complex_diff > 100 and complex_diff < 200):\n",
    "            res = 'Warning,'+ str(complex_diff)\n",
    "        if(complex_diff > 200 ):\n",
    "            res = 'Error,'+ str(complex_diff)\n",
    "        d = {'Sucsess': [True], 'Result': [res]}\n",
    "        return pd.DataFrame(data=d)\n",
    "\n",
    "model_path = \"add_n_model7\"\n",
    "add5_model = AddN(n=5)\n",
    "mlflow.pyfunc.save_model(path=model_path, python_model=add5_model)\n",
    "\n",
    "loaded_model = mlflow.pyfunc.load_model(model_path)\n",
    "\n",
    "model_input = pd.DataFrame(data={'Type': ['set'], 'Data': ['[{\"Frequency\":4261.1,\"Power\":5.0},{\"Frequency\":4267.6,\"Power\":10.0},{\"Frequency\":4274.1,\"Power\":2.81},{\"Frequency\":4280.7,\"Power\":0.0},{\"Frequency\":4287.2,\"Power\":0.0},{\"Frequency\":4293.7,\"Power\":0.0},{\"Frequency\":4300.2,\"Power\":0.0},{\"Frequency\":4306.7,\"Power\":0.0},{\"Frequency\":4313.2,\"Power\":0.0},{\"Frequency\":4319.7,\"Power\":0.0},{\"Frequency\":4326.2,\"Power\":2.27},{\"Frequency\":4332.7,\"Power\":0.0},{\"Frequency\":4339.2,\"Power\":0.0},{\"Frequency\":4345.8,\"Power\":0.0},{\"Frequency\":4352.3,\"Power\":0.0},{\"Frequency\":4358.8,\"Power\":0.0},{\"Frequency\":4365.3,\"Power\":0.0},{\"Frequency\":4371.8,\"Power\":0.0},{\"Frequency\":4378.3,\"Power\":1.48},{\"Frequency\":4384.8,\"Power\":0.0},{\"Frequency\":4391.3,\"Power\":0.0},{\"Frequency\":4397.8,\"Power\":0.0},{\"Frequency\":4404.4,\"Power\":0.0},{\"Frequency\":4410.9,\"Power\":0.0},{\"Frequency\":4417.4,\"Power\":0.0},{\"Frequency\":4423.9,\"Power\":0.0},{\"Frequency\":4430.4,\"Power\":3.46},{\"Frequency\":4436.9,\"Power\":0.0},{\"Frequency\":4443.4,\"Power\":0.0},{\"Frequency\":4449.9,\"Power\":0.0},{\"Frequency\":4456.4,\"Power\":0.0},{\"Frequency\":4462.9,\"Power\":0.0},{\"Frequency\":4469.5,\"Power\":0.0},{\"Frequency\":4476.0,\"Power\":0.0},{\"Frequency\":4482.5,\"Power\":2.65},{\"Frequency\":4489.0,\"Power\":0.0},{\"Frequency\":4495.5,\"Power\":0.0},{\"Frequency\":4502.0,\"Power\":0.0},{\"Frequency\":4508.5,\"Power\":0.0},{\"Frequency\":4515.0,\"Power\":0.0},{\"Frequency\":4521.5,\"Power\":0.0},{\"Frequency\":4528.1,\"Power\":0.0},{\"Frequency\":4534.6,\"Power\":3.0},{\"Frequency\":4541.1,\"Power\":0.0},{\"Frequency\":4547.6,\"Power\":0.0},{\"Frequency\":4554.1,\"Power\":0.0},{\"Frequency\":4560.6,\"Power\":0.0},{\"Frequency\":4567.1,\"Power\":0.0},{\"Frequency\":4573.6,\"Power\":0.0},{\"Frequency\":4580.1,\"Power\":0.0},{\"Frequency\":4586.6,\"Power\":1.43},{\"Frequency\":4593.2,\"Power\":0.0},{\"Frequency\":4599.7,\"Power\":0.0},{\"Frequency\":4606.2,\"Power\":0.0},{\"Frequency\":4612.7,\"Power\":0.0},{\"Frequency\":4619.2,\"Power\":0.0},{\"Frequency\":4625.7,\"Power\":0.0},{\"Frequency\":4632.2,\"Power\":0.0},{\"Frequency\":4638.7,\"Power\":2.33},{\"Frequency\":4645.2,\"Power\":0.0},{\"Frequency\":4651.8,\"Power\":0.0},{\"Frequency\":4658.3,\"Power\":0.0},{\"Frequency\":4664.8,\"Power\":0.0},{\"Frequency\":4671.3,\"Power\":0.0},{\"Frequency\":4677.8,\"Power\":0.0},{\"Frequency\":4684.3,\"Power\":0.0},{\"Frequency\":4690.8,\"Power\":4.45},{\"Frequency\":4697.3,\"Power\":0.0},{\"Frequency\":4703.8,\"Power\":0.0},{\"Frequency\":4710.3,\"Power\":0.0},{\"Frequency\":4716.9,\"Power\":0.0},{\"Frequency\":4723.4,\"Power\":0.0},{\"Frequency\":4729.9,\"Power\":0.0},{\"Frequency\":4736.4,\"Power\":0.0},{\"Frequency\":4742.9,\"Power\":2.26},{\"Frequency\":4749.4,\"Power\":0.0},{\"Frequency\":4755.9,\"Power\":0.0},{\"Frequency\":4762.4,\"Power\":0.0},{\"Frequency\":4768.9,\"Power\":0.0},{\"Frequency\":4775.5,\"Power\":0.0},{\"Frequency\":4782.0,\"Power\":0.0},{\"Frequency\":4788.5,\"Power\":0.0},{\"Frequency\":4795.0,\"Power\":1.03},{\"Frequency\":4801.5,\"Power\":0.0},{\"Frequency\":4808.0,\"Power\":0.0},{\"Frequency\":4814.5,\"Power\":0.0},{\"Frequency\":4821.0,\"Power\":0.0},{\"Frequency\":4827.5,\"Power\":0.0},{\"Frequency\":4834.0,\"Power\":0.0},{\"Frequency\":4840.6,\"Power\":0.0},{\"Frequency\":4847.1,\"Power\":1.31},{\"Frequency\":4853.6,\"Power\":0.0},{\"Frequency\":4860.1,\"Power\":0.0},{\"Frequency\":4866.6,\"Power\":0.0},{\"Frequency\":4873.1,\"Power\":0.0},{\"Frequency\":4879.6,\"Power\":0.0},{\"Frequency\":4886.1,\"Power\":0.0},{\"Frequency\":4892.6,\"Power\":0.0},{\"Frequency\":4899.1,\"Power\":1.88},{\"Frequency\":4905.7,\"Power\":0.0},{\"Frequency\":4912.2,\"Power\":0.0},{\"Frequency\":4918.7,\"Power\":0.0},{\"Frequency\":4925.2,\"Power\":0.0},{\"Frequency\":4931.7,\"Power\":0.0},{\"Frequency\":4938.2,\"Power\":0.0},{\"Frequency\":4944.7,\"Power\":0.0},{\"Frequency\":4951.2,\"Power\":2.74},{\"Frequency\":4957.7,\"Power\":0.0},{\"Frequency\":4964.3,\"Power\":0.0},{\"Frequency\":4970.8,\"Power\":0.0},{\"Frequency\":4977.3,\"Power\":0.0},{\"Frequency\":4983.8,\"Power\":0.0},{\"Frequency\":4990.3,\"Power\":0.0},{\"Frequency\":4996.8,\"Power\":0.0},{\"Frequency\":5003.3,\"Power\":1.68},{\"Frequency\":5009.8,\"Power\":0.0},{\"Frequency\":5016.3,\"Power\":0.0},{\"Frequency\":5022.8,\"Power\":0.0},{\"Frequency\":5029.4,\"Power\":0.0},{\"Frequency\":5035.9,\"Power\":0.0},{\"Frequency\":5042.4,\"Power\":0.0},{\"Frequency\":5048.9,\"Power\":0.0},{\"Frequency\":5055.4,\"Power\":0.92},{\"Frequency\":5061.9,\"Power\":0.0},{\"Frequency\":5068.4,\"Power\":0.0},{\"Frequency\":5074.9,\"Power\":0.0},{\"Frequency\":5081.4,\"Power\":0.0},{\"Frequency\":5088.0,\"Power\":0.0},{\"Frequency\":5094.5,\"Power\":0.0},{\"Frequency\":5101.0,\"Power\":0.0},{\"Frequency\":5107.5,\"Power\":1.16},{\"Frequency\":5114.0,\"Power\":0.0},{\"Frequency\":5120.5,\"Power\":0.0},{\"Frequency\":5127.0,\"Power\":0.0},{\"Frequency\":5133.5,\"Power\":0.0},{\"Frequency\":5140.0,\"Power\":0.0},{\"Frequency\":5146.5,\"Power\":0.0},{\"Frequency\":5153.1,\"Power\":0.0},{\"Frequency\":5159.6,\"Power\":2.76},{\"Frequency\":5166.1,\"Power\":0.0},{\"Frequency\":5172.6,\"Power\":0.0},{\"Frequency\":5179.1,\"Power\":0.0},{\"Frequency\":5185.6,\"Power\":0.0},{\"Frequency\":5192.1,\"Power\":0.0},{\"Frequency\":5198.6,\"Power\":0.0},{\"Frequency\":5205.1,\"Power\":0.0},{\"Frequency\":5211.7,\"Power\":4.17},{\"Frequency\":5218.2,\"Power\":0.0},{\"Frequency\":5224.7,\"Power\":0.0},{\"Frequency\":5231.2,\"Power\":0.0},{\"Frequency\":5237.7,\"Power\":0.0},{\"Frequency\":5244.2,\"Power\":0.0},{\"Frequency\":5250.7,\"Power\":0.0},{\"Frequency\":5257.2,\"Power\":0.0},{\"Frequency\":5263.7,\"Power\":2.24},{\"Frequency\":5270.2,\"Power\":0.0},{\"Frequency\":5276.8,\"Power\":0.0},{\"Frequency\":5283.3,\"Power\":0.0},{\"Frequency\":5289.8,\"Power\":0.0},{\"Frequency\":5296.3,\"Power\":0.0},{\"Frequency\":5302.8,\"Power\":0.0},{\"Frequency\":5309.3,\"Power\":0.0},{\"Frequency\":5315.8,\"Power\":1.09},{\"Frequency\":5322.3,\"Power\":0.0},{\"Frequency\":5328.8,\"Power\":0.0},{\"Frequency\":5335.4,\"Power\":0.0},{\"Frequency\":5341.9,\"Power\":0.0},{\"Frequency\":5348.4,\"Power\":0.0},{\"Frequency\":5354.9,\"Power\":0.0},{\"Frequency\":5361.4,\"Power\":0.0},{\"Frequency\":5367.9,\"Power\":0.76},{\"Frequency\":5374.4,\"Power\":0.0},{\"Frequency\":5380.9,\"Power\":0.0},{\"Frequency\":5387.4,\"Power\":0.0},{\"Frequency\":5393.9,\"Power\":0.0},{\"Frequency\":5400.5,\"Power\":0.0},{\"Frequency\":5407.0,\"Power\":0.0},{\"Frequency\":5413.5,\"Power\":0.0},{\"Frequency\":5420.0,\"Power\":4.1},{\"Frequency\":5426.5,\"Power\":0.0},{\"Frequency\":5433.0,\"Power\":0.0},{\"Frequency\":5439.5,\"Power\":0.0},{\"Frequency\":5446.0,\"Power\":0.0},{\"Frequency\":5452.5,\"Power\":0.0},{\"Frequency\":5459.1,\"Power\":0.0},{\"Frequency\":5465.6,\"Power\":0.0},{\"Frequency\":5472.1,\"Power\":0.69},{\"Frequency\":5478.6,\"Power\":0.0},{\"Frequency\":5485.1,\"Power\":0.0},{\"Frequency\":5491.6,\"Power\":0.0},{\"Frequency\":5498.1,\"Power\":0.0},{\"Frequency\":5504.6,\"Power\":0.0},{\"Frequency\":5511.1,\"Power\":0.0},{\"Frequency\":5517.6,\"Power\":0.0},{\"Frequency\":5524.2,\"Power\":1.94},{\"Frequency\":5530.7,\"Power\":0.0},{\"Frequency\":5537.2,\"Power\":0.0},{\"Frequency\":5543.7,\"Power\":0.0},{\"Frequency\":5550.2,\"Power\":0.0},{\"Frequency\":5556.7,\"Power\":0.0},{\"Frequency\":5563.2,\"Power\":0.0},{\"Frequency\":5569.7,\"Power\":0.0},{\"Frequency\":5576.2,\"Power\":6.07},{\"Frequency\":5582.8,\"Power\":0.0},{\"Frequency\":5589.3,\"Power\":0.0},{\"Frequency\":5595.8,\"Power\":0.0},{\"Frequency\":5602.3,\"Power\":0.0},{\"Frequency\":5608.8,\"Power\":0.0},{\"Frequency\":5615.3,\"Power\":0.0},{\"Frequency\":5621.8,\"Power\":0.0},{\"Frequency\":5628.3,\"Power\":0.88},{\"Frequency\":5634.8,\"Power\":0.0},{\"Frequency\":5641.3,\"Power\":0.0},{\"Frequency\":5647.9,\"Power\":0.0},{\"Frequency\":5654.4,\"Power\":0.0},{\"Frequency\":5660.9,\"Power\":0.0},{\"Frequency\":5667.4,\"Power\":0.0},{\"Frequency\":5673.9,\"Power\":0.0},{\"Frequency\":5680.4,\"Power\":4.61},{\"Frequency\":5686.9,\"Power\":0.0},{\"Frequency\":5693.4,\"Power\":0.0},{\"Frequency\":5699.9,\"Power\":0.0},{\"Frequency\":5706.5,\"Power\":0.0},{\"Frequency\":5713.0,\"Power\":0.0},{\"Frequency\":5719.5,\"Power\":0.0},{\"Frequency\":5726.0,\"Power\":0.0},{\"Frequency\":5732.5,\"Power\":4.83},{\"Frequency\":5739.0,\"Power\":0.0},{\"Frequency\":5745.5,\"Power\":0.0},{\"Frequency\":5752.0,\"Power\":0.0},{\"Frequency\":5758.5,\"Power\":0.0},{\"Frequency\":5765.0,\"Power\":0.0},{\"Frequency\":5771.6,\"Power\":0.0},{\"Frequency\":5778.1,\"Power\":0.0},{\"Frequency\":5784.6,\"Power\":2.16},{\"Frequency\":5791.1,\"Power\":0.0},{\"Frequency\":5797.6,\"Power\":0.0},{\"Frequency\":5804.1,\"Power\":0.0},{\"Frequency\":5810.6,\"Power\":0.0},{\"Frequency\":5817.1,\"Power\":0.0},{\"Frequency\":5823.6,\"Power\":0.0},{\"Frequency\":5830.2,\"Power\":0.0},{\"Frequency\":5836.7,\"Power\":2.13},{\"Frequency\":5843.2,\"Power\":0.0},{\"Frequency\":5849.7,\"Power\":0.0},{\"Frequency\":5856.2,\"Power\":0.0},{\"Frequency\":5862.7,\"Power\":0.0},{\"Frequency\":5869.2,\"Power\":0.0},{\"Frequency\":5875.7,\"Power\":0.0},{\"Frequency\":5882.2,\"Power\":0.0},{\"Frequency\":5888.7,\"Power\":1.86},{\"Frequency\":5895.3,\"Power\":0.0},{\"Frequency\":5901.8,\"Power\":0.0},{\"Frequency\":5908.3,\"Power\":0.0},{\"Frequency\":5914.8,\"Power\":0.0},{\"Frequency\":5921.3,\"Power\":0.0},{\"Frequency\":5927.8,\"Power\":0.0},{\"Frequency\":5934.3,\"Power\":0.0},{\"Frequency\":5940.8,\"Power\":3.38},{\"Frequency\":5947.3,\"Power\":0.0},{\"Frequency\":5953.9,\"Power\":0.0},{\"Frequency\":5960.4,\"Power\":0.0},{\"Frequency\":5966.9,\"Power\":0.0},{\"Frequency\":5973.4,\"Power\":0.0},{\"Frequency\":5979.9,\"Power\":0.0},{\"Frequency\":5986.4,\"Power\":0.0},{\"Frequency\":5992.9,\"Power\":2.69},{\"Frequency\":5999.4,\"Power\":0.0},{\"Frequency\":6005.9,\"Power\":0.0},{\"Frequency\":6012.4,\"Power\":0.0},{\"Frequency\":6019.0,\"Power\":0.0},{\"Frequency\":6025.5,\"Power\":0.0},{\"Frequency\":6032.0,\"Power\":0.0},{\"Frequency\":6038.5,\"Power\":0.0},{\"Frequency\":6045.0,\"Power\":3.01},{\"Frequency\":6051.5,\"Power\":0.0},{\"Frequency\":6058.0,\"Power\":0.0},{\"Frequency\":6064.5,\"Power\":0.0},{\"Frequency\":6071.0,\"Power\":0.0},{\"Frequency\":6077.6,\"Power\":0.0},{\"Frequency\":6084.1,\"Power\":0.0},{\"Frequency\":6090.6,\"Power\":0.0},{\"Frequency\":6097.1,\"Power\":1.86},{\"Frequency\":6103.6,\"Power\":0.0},{\"Frequency\":6110.1,\"Power\":0.0},{\"Frequency\":6116.6,\"Power\":0.0},{\"Frequency\":6123.1,\"Power\":0.0},{\"Frequency\":6129.6,\"Power\":0.0},{\"Frequency\":6136.1,\"Power\":0.0},{\"Frequency\":6142.7,\"Power\":0.0},{\"Frequency\":6149.2,\"Power\":1.99},{\"Frequency\":6155.7,\"Power\":0.0},{\"Frequency\":6162.2,\"Power\":0.0},{\"Frequency\":6168.7,\"Power\":0.0},{\"Frequency\":6175.2,\"Power\":0.0},{\"Frequency\":6181.7,\"Power\":0.0},{\"Frequency\":6188.2,\"Power\":0.0},{\"Frequency\":6194.7,\"Power\":0.0},{\"Frequency\":6201.2,\"Power\":2.55},{\"Frequency\":6207.8,\"Power\":0.0},{\"Frequency\":6214.3,\"Power\":0.0},{\"Frequency\":6220.8,\"Power\":0.0},{\"Frequency\":6227.3,\"Power\":0.0},{\"Frequency\":6233.8,\"Power\":0.0},{\"Frequency\":6240.3,\"Power\":0.0},{\"Frequency\":6246.8,\"Power\":0.0},{\"Frequency\":6253.3,\"Power\":5.51},{\"Frequency\":6259.8,\"Power\":0.0},{\"Frequency\":6266.4,\"Power\":0.0},{\"Frequency\":6272.9,\"Power\":0.0},{\"Frequency\":6279.4,\"Power\":0.0},{\"Frequency\":6285.9,\"Power\":0.0},{\"Frequency\":6292.4,\"Power\":0.0},{\"Frequency\":6298.9,\"Power\":0.0},{\"Frequency\":6305.4,\"Power\":3.61},{\"Frequency\":6311.9,\"Power\":0.0},{\"Frequency\":6318.4,\"Power\":0.0},{\"Frequency\":6324.9,\"Power\":0.0},{\"Frequency\":6331.5,\"Power\":0.0},{\"Frequency\":6338.0,\"Power\":0.0},{\"Frequency\":6344.5,\"Power\":0.0},{\"Frequency\":6351.0,\"Power\":0.0},{\"Frequency\":6357.5,\"Power\":0.69},{\"Frequency\":6364.0,\"Power\":0.0},{\"Frequency\":6370.5,\"Power\":0.0},{\"Frequency\":6377.0,\"Power\":0.0},{\"Frequency\":6383.5,\"Power\":0.0},{\"Frequency\":6390.1,\"Power\":0.0},{\"Frequency\":6396.6,\"Power\":0.0},{\"Frequency\":6403.1,\"Power\":0.0},{\"Frequency\":6409.6,\"Power\":3.48},{\"Frequency\":6416.1,\"Power\":0.0},{\"Frequency\":6422.6,\"Power\":0.0},{\"Frequency\":6429.1,\"Power\":0.0},{\"Frequency\":6435.6,\"Power\":0.0},{\"Frequency\":6442.1,\"Power\":0.0},{\"Frequency\":6448.6,\"Power\":0.0},{\"Frequency\":6455.2,\"Power\":0.0},{\"Frequency\":6461.7,\"Power\":1.04},{\"Frequency\":6468.2,\"Power\":0.0},{\"Frequency\":6474.7,\"Power\":0.0},{\"Frequency\":6481.2,\"Power\":0.0},{\"Frequency\":6487.7,\"Power\":0.0},{\"Frequency\":6494.2,\"Power\":0.0},{\"Frequency\":6500.7,\"Power\":0.0},{\"Frequency\":6507.2,\"Power\":0.0},{\"Frequency\":6513.8,\"Power\":2.58},{\"Frequency\":6520.3,\"Power\":0.0},{\"Frequency\":6526.8,\"Power\":0.0},{\"Frequency\":6533.3,\"Power\":0.0},{\"Frequency\":6539.8,\"Power\":0.0},{\"Frequency\":6546.3,\"Power\":0.0},{\"Frequency\":6552.8,\"Power\":0.0},{\"Frequency\":6559.3,\"Power\":0.0},{\"Frequency\":6565.8,\"Power\":1.24},{\"Frequency\":6572.3,\"Power\":0.0},{\"Frequency\":6578.9,\"Power\":0.0},{\"Frequency\":6585.4,\"Power\":0.0},{\"Frequency\":6591.9,\"Power\":0.0},{\"Frequency\":6598.4,\"Power\":0.0},{\"Frequency\":6604.9,\"Power\":0.0},{\"Frequency\":6611.4,\"Power\":0.0},{\"Frequency\":6617.9,\"Power\":1.19},{\"Frequency\":6624.4,\"Power\":0.0},{\"Frequency\":6630.9,\"Power\":0.0},{\"Frequency\":6637.5,\"Power\":0.0},{\"Frequency\":6644.0,\"Power\":0.0},{\"Frequency\":6650.5,\"Power\":0.0},{\"Frequency\":6657.0,\"Power\":0.0},{\"Frequency\":6663.5,\"Power\":0.0}]']})\n",
    "model_output = loaded_model.predict(model_input)\n",
    "print(model_output)\n",
    "model_input = pd.DataFrame(data={'Type': ['predict'], 'Data': ['[{\"Frequency\":4261.1,\"Power\":10.0},{\"Frequency\":4267.6,\"Power\":5.0},{\"Frequency\":4274.1,\"Power\":2.81},{\"Frequency\":4280.7,\"Power\":0.0},{\"Frequency\":4287.2,\"Power\":0.0},{\"Frequency\":4293.7,\"Power\":0.0},{\"Frequency\":4300.2,\"Power\":0.0},{\"Frequency\":4306.7,\"Power\":0.0},{\"Frequency\":4313.2,\"Power\":0.0},{\"Frequency\":4319.7,\"Power\":0.0},{\"Frequency\":4326.2,\"Power\":2.27},{\"Frequency\":4332.7,\"Power\":0.0},{\"Frequency\":4339.2,\"Power\":0.0},{\"Frequency\":4345.8,\"Power\":0.0},{\"Frequency\":4352.3,\"Power\":0.0},{\"Frequency\":4358.8,\"Power\":0.0},{\"Frequency\":4365.3,\"Power\":0.0},{\"Frequency\":4371.8,\"Power\":0.0},{\"Frequency\":4378.3,\"Power\":1.48},{\"Frequency\":4384.8,\"Power\":0.0},{\"Frequency\":4391.3,\"Power\":0.0},{\"Frequency\":4397.8,\"Power\":0.0},{\"Frequency\":4404.4,\"Power\":0.0},{\"Frequency\":4410.9,\"Power\":0.0},{\"Frequency\":4417.4,\"Power\":0.0},{\"Frequency\":4423.9,\"Power\":0.0},{\"Frequency\":4430.4,\"Power\":3.46},{\"Frequency\":4436.9,\"Power\":0.0},{\"Frequency\":4443.4,\"Power\":0.0},{\"Frequency\":4449.9,\"Power\":0.0},{\"Frequency\":4456.4,\"Power\":0.0},{\"Frequency\":4462.9,\"Power\":0.0},{\"Frequency\":4469.5,\"Power\":0.0},{\"Frequency\":4476.0,\"Power\":0.0},{\"Frequency\":4482.5,\"Power\":2.65},{\"Frequency\":4489.0,\"Power\":0.0},{\"Frequency\":4495.5,\"Power\":0.0},{\"Frequency\":4502.0,\"Power\":0.0},{\"Frequency\":4508.5,\"Power\":0.0},{\"Frequency\":4515.0,\"Power\":0.0},{\"Frequency\":4521.5,\"Power\":0.0},{\"Frequency\":4528.1,\"Power\":0.0},{\"Frequency\":4534.6,\"Power\":3.0},{\"Frequency\":4541.1,\"Power\":0.0},{\"Frequency\":4547.6,\"Power\":0.0},{\"Frequency\":4554.1,\"Power\":0.0},{\"Frequency\":4560.6,\"Power\":0.0},{\"Frequency\":4567.1,\"Power\":0.0},{\"Frequency\":4573.6,\"Power\":0.0},{\"Frequency\":4580.1,\"Power\":0.0},{\"Frequency\":4586.6,\"Power\":1.43},{\"Frequency\":4593.2,\"Power\":0.0},{\"Frequency\":4599.7,\"Power\":0.0},{\"Frequency\":4606.2,\"Power\":0.0},{\"Frequency\":4612.7,\"Power\":0.0},{\"Frequency\":4619.2,\"Power\":0.0},{\"Frequency\":4625.7,\"Power\":0.0},{\"Frequency\":4632.2,\"Power\":0.0},{\"Frequency\":4638.7,\"Power\":2.33},{\"Frequency\":4645.2,\"Power\":0.0},{\"Frequency\":4651.8,\"Power\":0.0},{\"Frequency\":4658.3,\"Power\":0.0},{\"Frequency\":4664.8,\"Power\":0.0},{\"Frequency\":4671.3,\"Power\":0.0},{\"Frequency\":4677.8,\"Power\":0.0},{\"Frequency\":4684.3,\"Power\":0.0},{\"Frequency\":4690.8,\"Power\":4.45},{\"Frequency\":4697.3,\"Power\":0.0},{\"Frequency\":4703.8,\"Power\":0.0},{\"Frequency\":4710.3,\"Power\":0.0},{\"Frequency\":4716.9,\"Power\":0.0},{\"Frequency\":4723.4,\"Power\":0.0},{\"Frequency\":4729.9,\"Power\":0.0},{\"Frequency\":4736.4,\"Power\":0.0},{\"Frequency\":4742.9,\"Power\":2.26},{\"Frequency\":4749.4,\"Power\":0.0},{\"Frequency\":4755.9,\"Power\":0.0},{\"Frequency\":4762.4,\"Power\":0.0},{\"Frequency\":4768.9,\"Power\":0.0},{\"Frequency\":4775.5,\"Power\":0.0},{\"Frequency\":4782.0,\"Power\":0.0},{\"Frequency\":4788.5,\"Power\":0.0},{\"Frequency\":4795.0,\"Power\":1.03},{\"Frequency\":4801.5,\"Power\":0.0},{\"Frequency\":4808.0,\"Power\":0.0},{\"Frequency\":4814.5,\"Power\":0.0},{\"Frequency\":4821.0,\"Power\":0.0},{\"Frequency\":4827.5,\"Power\":0.0},{\"Frequency\":4834.0,\"Power\":0.0},{\"Frequency\":4840.6,\"Power\":0.0},{\"Frequency\":4847.1,\"Power\":1.31},{\"Frequency\":4853.6,\"Power\":0.0},{\"Frequency\":4860.1,\"Power\":0.0},{\"Frequency\":4866.6,\"Power\":0.0},{\"Frequency\":4873.1,\"Power\":0.0},{\"Frequency\":4879.6,\"Power\":0.0},{\"Frequency\":4886.1,\"Power\":0.0},{\"Frequency\":4892.6,\"Power\":0.0},{\"Frequency\":4899.1,\"Power\":1.88},{\"Frequency\":4905.7,\"Power\":0.0},{\"Frequency\":4912.2,\"Power\":0.0},{\"Frequency\":4918.7,\"Power\":0.0},{\"Frequency\":4925.2,\"Power\":0.0},{\"Frequency\":4931.7,\"Power\":0.0},{\"Frequency\":4938.2,\"Power\":0.0},{\"Frequency\":4944.7,\"Power\":0.0},{\"Frequency\":4951.2,\"Power\":2.74},{\"Frequency\":4957.7,\"Power\":0.0},{\"Frequency\":4964.3,\"Power\":0.0},{\"Frequency\":4970.8,\"Power\":0.0},{\"Frequency\":4977.3,\"Power\":0.0},{\"Frequency\":4983.8,\"Power\":0.0},{\"Frequency\":4990.3,\"Power\":0.0},{\"Frequency\":4996.8,\"Power\":0.0},{\"Frequency\":5003.3,\"Power\":1.68},{\"Frequency\":5009.8,\"Power\":0.0},{\"Frequency\":5016.3,\"Power\":0.0},{\"Frequency\":5022.8,\"Power\":0.0},{\"Frequency\":5029.4,\"Power\":0.0},{\"Frequency\":5035.9,\"Power\":0.0},{\"Frequency\":5042.4,\"Power\":0.0},{\"Frequency\":5048.9,\"Power\":0.0},{\"Frequency\":5055.4,\"Power\":0.92},{\"Frequency\":5061.9,\"Power\":0.0},{\"Frequency\":5068.4,\"Power\":0.0},{\"Frequency\":5074.9,\"Power\":0.0},{\"Frequency\":5081.4,\"Power\":0.0},{\"Frequency\":5088.0,\"Power\":0.0},{\"Frequency\":5094.5,\"Power\":0.0},{\"Frequency\":5101.0,\"Power\":0.0},{\"Frequency\":5107.5,\"Power\":1.16},{\"Frequency\":5114.0,\"Power\":0.0},{\"Frequency\":5120.5,\"Power\":0.0},{\"Frequency\":5127.0,\"Power\":0.0},{\"Frequency\":5133.5,\"Power\":0.0},{\"Frequency\":5140.0,\"Power\":0.0},{\"Frequency\":5146.5,\"Power\":0.0},{\"Frequency\":5153.1,\"Power\":0.0},{\"Frequency\":5159.6,\"Power\":2.76},{\"Frequency\":5166.1,\"Power\":0.0},{\"Frequency\":5172.6,\"Power\":0.0},{\"Frequency\":5179.1,\"Power\":0.0},{\"Frequency\":5185.6,\"Power\":0.0},{\"Frequency\":5192.1,\"Power\":0.0},{\"Frequency\":5198.6,\"Power\":0.0},{\"Frequency\":5205.1,\"Power\":0.0},{\"Frequency\":5211.7,\"Power\":4.17},{\"Frequency\":5218.2,\"Power\":0.0},{\"Frequency\":5224.7,\"Power\":0.0},{\"Frequency\":5231.2,\"Power\":0.0},{\"Frequency\":5237.7,\"Power\":0.0},{\"Frequency\":5244.2,\"Power\":0.0},{\"Frequency\":5250.7,\"Power\":0.0},{\"Frequency\":5257.2,\"Power\":0.0},{\"Frequency\":5263.7,\"Power\":2.24},{\"Frequency\":5270.2,\"Power\":0.0},{\"Frequency\":5276.8,\"Power\":0.0},{\"Frequency\":5283.3,\"Power\":0.0},{\"Frequency\":5289.8,\"Power\":0.0},{\"Frequency\":5296.3,\"Power\":0.0},{\"Frequency\":5302.8,\"Power\":0.0},{\"Frequency\":5309.3,\"Power\":0.0},{\"Frequency\":5315.8,\"Power\":1.09},{\"Frequency\":5322.3,\"Power\":0.0},{\"Frequency\":5328.8,\"Power\":0.0},{\"Frequency\":5335.4,\"Power\":0.0},{\"Frequency\":5341.9,\"Power\":0.0},{\"Frequency\":5348.4,\"Power\":0.0},{\"Frequency\":5354.9,\"Power\":0.0},{\"Frequency\":5361.4,\"Power\":0.0},{\"Frequency\":5367.9,\"Power\":0.76},{\"Frequency\":5374.4,\"Power\":0.0},{\"Frequency\":5380.9,\"Power\":0.0},{\"Frequency\":5387.4,\"Power\":0.0},{\"Frequency\":5393.9,\"Power\":0.0},{\"Frequency\":5400.5,\"Power\":0.0},{\"Frequency\":5407.0,\"Power\":0.0},{\"Frequency\":5413.5,\"Power\":0.0},{\"Frequency\":5420.0,\"Power\":4.1},{\"Frequency\":5426.5,\"Power\":0.0},{\"Frequency\":5433.0,\"Power\":0.0},{\"Frequency\":5439.5,\"Power\":0.0},{\"Frequency\":5446.0,\"Power\":0.0},{\"Frequency\":5452.5,\"Power\":0.0},{\"Frequency\":5459.1,\"Power\":0.0},{\"Frequency\":5465.6,\"Power\":0.0},{\"Frequency\":5472.1,\"Power\":0.69},{\"Frequency\":5478.6,\"Power\":0.0},{\"Frequency\":5485.1,\"Power\":0.0},{\"Frequency\":5491.6,\"Power\":0.0},{\"Frequency\":5498.1,\"Power\":0.0},{\"Frequency\":5504.6,\"Power\":0.0},{\"Frequency\":5511.1,\"Power\":0.0},{\"Frequency\":5517.6,\"Power\":0.0},{\"Frequency\":5524.2,\"Power\":1.94},{\"Frequency\":5530.7,\"Power\":0.0},{\"Frequency\":5537.2,\"Power\":0.0},{\"Frequency\":5543.7,\"Power\":0.0},{\"Frequency\":5550.2,\"Power\":0.0},{\"Frequency\":5556.7,\"Power\":0.0},{\"Frequency\":5563.2,\"Power\":0.0},{\"Frequency\":5569.7,\"Power\":0.0},{\"Frequency\":5576.2,\"Power\":6.07},{\"Frequency\":5582.8,\"Power\":0.0},{\"Frequency\":5589.3,\"Power\":0.0},{\"Frequency\":5595.8,\"Power\":0.0},{\"Frequency\":5602.3,\"Power\":0.0},{\"Frequency\":5608.8,\"Power\":0.0},{\"Frequency\":5615.3,\"Power\":0.0},{\"Frequency\":5621.8,\"Power\":0.0},{\"Frequency\":5628.3,\"Power\":0.88},{\"Frequency\":5634.8,\"Power\":0.0},{\"Frequency\":5641.3,\"Power\":0.0},{\"Frequency\":5647.9,\"Power\":0.0},{\"Frequency\":5654.4,\"Power\":0.0},{\"Frequency\":5660.9,\"Power\":0.0},{\"Frequency\":5667.4,\"Power\":0.0},{\"Frequency\":5673.9,\"Power\":0.0},{\"Frequency\":5680.4,\"Power\":4.61},{\"Frequency\":5686.9,\"Power\":0.0},{\"Frequency\":5693.4,\"Power\":0.0},{\"Frequency\":5699.9,\"Power\":0.0},{\"Frequency\":5706.5,\"Power\":0.0},{\"Frequency\":5713.0,\"Power\":0.0},{\"Frequency\":5719.5,\"Power\":0.0},{\"Frequency\":5726.0,\"Power\":0.0},{\"Frequency\":5732.5,\"Power\":4.83},{\"Frequency\":5739.0,\"Power\":0.0},{\"Frequency\":5745.5,\"Power\":0.0},{\"Frequency\":5752.0,\"Power\":0.0},{\"Frequency\":5758.5,\"Power\":0.0},{\"Frequency\":5765.0,\"Power\":0.0},{\"Frequency\":5771.6,\"Power\":0.0},{\"Frequency\":5778.1,\"Power\":0.0},{\"Frequency\":5784.6,\"Power\":2.16},{\"Frequency\":5791.1,\"Power\":0.0},{\"Frequency\":5797.6,\"Power\":0.0},{\"Frequency\":5804.1,\"Power\":0.0},{\"Frequency\":5810.6,\"Power\":0.0},{\"Frequency\":5817.1,\"Power\":0.0},{\"Frequency\":5823.6,\"Power\":0.0},{\"Frequency\":5830.2,\"Power\":0.0},{\"Frequency\":5836.7,\"Power\":2.13},{\"Frequency\":5843.2,\"Power\":0.0},{\"Frequency\":5849.7,\"Power\":0.0},{\"Frequency\":5856.2,\"Power\":0.0},{\"Frequency\":5862.7,\"Power\":0.0},{\"Frequency\":5869.2,\"Power\":0.0},{\"Frequency\":5875.7,\"Power\":0.0},{\"Frequency\":5882.2,\"Power\":0.0},{\"Frequency\":5888.7,\"Power\":1.86},{\"Frequency\":5895.3,\"Power\":0.0},{\"Frequency\":5901.8,\"Power\":0.0},{\"Frequency\":5908.3,\"Power\":0.0},{\"Frequency\":5914.8,\"Power\":0.0},{\"Frequency\":5921.3,\"Power\":0.0},{\"Frequency\":5927.8,\"Power\":0.0},{\"Frequency\":5934.3,\"Power\":0.0},{\"Frequency\":5940.8,\"Power\":3.38},{\"Frequency\":5947.3,\"Power\":0.0},{\"Frequency\":5953.9,\"Power\":0.0},{\"Frequency\":5960.4,\"Power\":0.0},{\"Frequency\":5966.9,\"Power\":0.0},{\"Frequency\":5973.4,\"Power\":0.0},{\"Frequency\":5979.9,\"Power\":0.0},{\"Frequency\":5986.4,\"Power\":0.0},{\"Frequency\":5992.9,\"Power\":2.69},{\"Frequency\":5999.4,\"Power\":0.0},{\"Frequency\":6005.9,\"Power\":0.0},{\"Frequency\":6012.4,\"Power\":0.0},{\"Frequency\":6019.0,\"Power\":0.0},{\"Frequency\":6025.5,\"Power\":0.0},{\"Frequency\":6032.0,\"Power\":0.0},{\"Frequency\":6038.5,\"Power\":0.0},{\"Frequency\":6045.0,\"Power\":3.01},{\"Frequency\":6051.5,\"Power\":0.0},{\"Frequency\":6058.0,\"Power\":0.0},{\"Frequency\":6064.5,\"Power\":0.0},{\"Frequency\":6071.0,\"Power\":0.0},{\"Frequency\":6077.6,\"Power\":0.0},{\"Frequency\":6084.1,\"Power\":0.0},{\"Frequency\":6090.6,\"Power\":0.0},{\"Frequency\":6097.1,\"Power\":1.86},{\"Frequency\":6103.6,\"Power\":0.0},{\"Frequency\":6110.1,\"Power\":0.0},{\"Frequency\":6116.6,\"Power\":0.0},{\"Frequency\":6123.1,\"Power\":0.0},{\"Frequency\":6129.6,\"Power\":0.0},{\"Frequency\":6136.1,\"Power\":0.0},{\"Frequency\":6142.7,\"Power\":0.0},{\"Frequency\":6149.2,\"Power\":1.99},{\"Frequency\":6155.7,\"Power\":0.0},{\"Frequency\":6162.2,\"Power\":0.0},{\"Frequency\":6168.7,\"Power\":0.0},{\"Frequency\":6175.2,\"Power\":0.0},{\"Frequency\":6181.7,\"Power\":0.0},{\"Frequency\":6188.2,\"Power\":0.0},{\"Frequency\":6194.7,\"Power\":0.0},{\"Frequency\":6201.2,\"Power\":2.55},{\"Frequency\":6207.8,\"Power\":0.0},{\"Frequency\":6214.3,\"Power\":0.0},{\"Frequency\":6220.8,\"Power\":0.0},{\"Frequency\":6227.3,\"Power\":0.0},{\"Frequency\":6233.8,\"Power\":0.0},{\"Frequency\":6240.3,\"Power\":0.0},{\"Frequency\":6246.8,\"Power\":0.0},{\"Frequency\":6253.3,\"Power\":5.51},{\"Frequency\":6259.8,\"Power\":0.0},{\"Frequency\":6266.4,\"Power\":0.0},{\"Frequency\":6272.9,\"Power\":0.0},{\"Frequency\":6279.4,\"Power\":0.0},{\"Frequency\":6285.9,\"Power\":0.0},{\"Frequency\":6292.4,\"Power\":0.0},{\"Frequency\":6298.9,\"Power\":0.0},{\"Frequency\":6305.4,\"Power\":3.61},{\"Frequency\":6311.9,\"Power\":0.0},{\"Frequency\":6318.4,\"Power\":0.0},{\"Frequency\":6324.9,\"Power\":0.0},{\"Frequency\":6331.5,\"Power\":0.0},{\"Frequency\":6338.0,\"Power\":0.0},{\"Frequency\":6344.5,\"Power\":0.0},{\"Frequency\":6351.0,\"Power\":0.0},{\"Frequency\":6357.5,\"Power\":0.69},{\"Frequency\":6364.0,\"Power\":0.0},{\"Frequency\":6370.5,\"Power\":0.0},{\"Frequency\":6377.0,\"Power\":0.0},{\"Frequency\":6383.5,\"Power\":0.0},{\"Frequency\":6390.1,\"Power\":0.0},{\"Frequency\":6396.6,\"Power\":0.0},{\"Frequency\":6403.1,\"Power\":0.0},{\"Frequency\":6409.6,\"Power\":3.48},{\"Frequency\":6416.1,\"Power\":0.0},{\"Frequency\":6422.6,\"Power\":0.0},{\"Frequency\":6429.1,\"Power\":0.0},{\"Frequency\":6435.6,\"Power\":0.0},{\"Frequency\":6442.1,\"Power\":0.0},{\"Frequency\":6448.6,\"Power\":0.0},{\"Frequency\":6455.2,\"Power\":0.0},{\"Frequency\":6461.7,\"Power\":1.04},{\"Frequency\":6468.2,\"Power\":0.0},{\"Frequency\":6474.7,\"Power\":0.0},{\"Frequency\":6481.2,\"Power\":0.0},{\"Frequency\":6487.7,\"Power\":0.0},{\"Frequency\":6494.2,\"Power\":0.0},{\"Frequency\":6500.7,\"Power\":0.0},{\"Frequency\":6507.2,\"Power\":0.0},{\"Frequency\":6513.8,\"Power\":2.58},{\"Frequency\":6520.3,\"Power\":0.0},{\"Frequency\":6526.8,\"Power\":0.0},{\"Frequency\":6533.3,\"Power\":0.0},{\"Frequency\":6539.8,\"Power\":0.0},{\"Frequency\":6546.3,\"Power\":0.0},{\"Frequency\":6552.8,\"Power\":0.0},{\"Frequency\":6559.3,\"Power\":0.0},{\"Frequency\":6565.8,\"Power\":1.24},{\"Frequency\":6572.3,\"Power\":0.0},{\"Frequency\":6578.9,\"Power\":0.0},{\"Frequency\":6585.4,\"Power\":0.0},{\"Frequency\":6591.9,\"Power\":0.0},{\"Frequency\":6598.4,\"Power\":0.0},{\"Frequency\":6604.9,\"Power\":0.0},{\"Frequency\":6611.4,\"Power\":0.0},{\"Frequency\":6617.9,\"Power\":1.19},{\"Frequency\":6624.4,\"Power\":0.0},{\"Frequency\":6630.9,\"Power\":0.0},{\"Frequency\":6637.5,\"Power\":0.0},{\"Frequency\":6644.0,\"Power\":0.0},{\"Frequency\":6650.5,\"Power\":0.0},{\"Frequency\":6657.0,\"Power\":0.0},{\"Frequency\":6663.5,\"Power\":0.0}]']})\n",
    "model_output = loaded_model.predict(model_input)\n",
    "print(model_output)"
   ]
  },
  {
   "cell_type": "code",
   "execution_count": 3,
   "metadata": {},
   "outputs": [
    {
     "name": "stdout",
     "output_type": "stream",
     "text": [
      "{'name': 'mlflow-env', 'channels': ['defaults', 'conda-forge'], 'dependencies': ['python=3.7.8', 'pip', {'pip': ['mlflow', 'cloudpickle==1.6.0']}]}\n"
     ]
    }
   ],
   "source": [
    "print(mlflow.pyfunc.get_default_conda_env())"
   ]
  },
  {
   "cell_type": "code",
   "execution_count": 2,
   "metadata": {},
   "outputs": [
    {
     "name": "stdout",
     "output_type": "stream",
     "text": [
      "0.9732446430035643\n"
     ]
    }
   ],
   "source": [
    "rms = np.sqrt(np.mean(df.Power**2))\n",
    "print(rms)"
   ]
  },
  {
   "cell_type": "code",
   "execution_count": 3,
   "metadata": {},
   "outputs": [
    {
     "name": "stdout",
     "output_type": "stream",
     "text": [
      "66     4.45\n",
      "218    4.61\n",
      "226    4.83\n",
      "306    5.51\n",
      "202    6.07\n",
      "Name: Power, dtype: float64\n"
     ]
    }
   ],
   "source": [
    "df = df.sort_values(by=['Power'])\n",
    "print(df.tail(5)['Power'])"
   ]
  },
  {
   "cell_type": "code",
   "execution_count": 4,
   "metadata": {},
   "outputs": [
    {
     "data": {
      "text/html": [
       "<div>\n",
       "<style scoped>\n",
       "    .dataframe tbody tr th:only-of-type {\n",
       "        vertical-align: middle;\n",
       "    }\n",
       "\n",
       "    .dataframe tbody tr th {\n",
       "        vertical-align: top;\n",
       "    }\n",
       "\n",
       "    .dataframe thead th {\n",
       "        text-align: right;\n",
       "    }\n",
       "</style>\n",
       "<table border=\"1\" class=\"dataframe\">\n",
       "  <thead>\n",
       "    <tr style=\"text-align: right;\">\n",
       "      <th></th>\n",
       "      <th>Frequency</th>\n",
       "      <th>Power</th>\n",
       "    </tr>\n",
       "  </thead>\n",
       "  <tbody>\n",
       "    <tr>\n",
       "      <th>42</th>\n",
       "      <td>4534.6</td>\n",
       "      <td>3.00</td>\n",
       "    </tr>\n",
       "    <tr>\n",
       "      <th>274</th>\n",
       "      <td>6045.0</td>\n",
       "      <td>3.01</td>\n",
       "    </tr>\n",
       "    <tr>\n",
       "      <th>258</th>\n",
       "      <td>5940.8</td>\n",
       "      <td>3.38</td>\n",
       "    </tr>\n",
       "    <tr>\n",
       "      <th>26</th>\n",
       "      <td>4430.4</td>\n",
       "      <td>3.46</td>\n",
       "    </tr>\n",
       "    <tr>\n",
       "      <th>330</th>\n",
       "      <td>6409.6</td>\n",
       "      <td>3.48</td>\n",
       "    </tr>\n",
       "    <tr>\n",
       "      <th>314</th>\n",
       "      <td>6305.4</td>\n",
       "      <td>3.61</td>\n",
       "    </tr>\n",
       "    <tr>\n",
       "      <th>178</th>\n",
       "      <td>5420.0</td>\n",
       "      <td>4.10</td>\n",
       "    </tr>\n",
       "    <tr>\n",
       "      <th>146</th>\n",
       "      <td>5211.7</td>\n",
       "      <td>4.17</td>\n",
       "    </tr>\n",
       "    <tr>\n",
       "      <th>66</th>\n",
       "      <td>4690.8</td>\n",
       "      <td>4.45</td>\n",
       "    </tr>\n",
       "    <tr>\n",
       "      <th>218</th>\n",
       "      <td>5680.4</td>\n",
       "      <td>4.61</td>\n",
       "    </tr>\n",
       "    <tr>\n",
       "      <th>226</th>\n",
       "      <td>5732.5</td>\n",
       "      <td>4.83</td>\n",
       "    </tr>\n",
       "    <tr>\n",
       "      <th>306</th>\n",
       "      <td>6253.3</td>\n",
       "      <td>5.51</td>\n",
       "    </tr>\n",
       "    <tr>\n",
       "      <th>202</th>\n",
       "      <td>5576.2</td>\n",
       "      <td>6.07</td>\n",
       "    </tr>\n",
       "  </tbody>\n",
       "</table>\n",
       "</div>"
      ],
      "text/plain": [
       "     Frequency  Power\n",
       "42      4534.6   3.00\n",
       "274     6045.0   3.01\n",
       "258     5940.8   3.38\n",
       "26      4430.4   3.46\n",
       "330     6409.6   3.48\n",
       "314     6305.4   3.61\n",
       "178     5420.0   4.10\n",
       "146     5211.7   4.17\n",
       "66      4690.8   4.45\n",
       "218     5680.4   4.61\n",
       "226     5732.5   4.83\n",
       "306     6253.3   5.51\n",
       "202     5576.2   6.07"
      ]
     },
     "execution_count": 4,
     "metadata": {},
     "output_type": "execute_result"
    }
   ],
   "source": [
    "df[(df.Power > (rms*3))]"
   ]
  },
  {
   "cell_type": "code",
   "execution_count": null,
   "metadata": {},
   "outputs": [],
   "source": []
  }
 ],
 "metadata": {
  "kernelspec": {
   "display_name": "Python 3",
   "language": "python",
   "name": "python3"
  },
  "language_info": {
   "codemirror_mode": {
    "name": "ipython",
    "version": 3
   },
   "file_extension": ".py",
   "mimetype": "text/x-python",
   "name": "python",
   "nbconvert_exporter": "python",
   "pygments_lexer": "ipython3",
   "version": "3.7.6"
  }
 },
 "nbformat": 4,
 "nbformat_minor": 4
}
